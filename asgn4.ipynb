{
 "cells": [
  {
   "cell_type": "markdown",
   "id": "1d26d362",
   "metadata": {},
   "source": [
    "# **DA5401 A4 — GMM-Based Synthetic Sampling for Imbalanced Data**"
   ]
  },
  {
   "cell_type": "markdown",
   "id": "36d47ee3",
   "metadata": {},
   "source": [
    "## Part A: Baseline Model and Data Analysis"
   ]
  },
  {
   "cell_type": "markdown",
   "id": "dbe9d318",
   "metadata": {},
   "source": [
    "We will be using a dataset on credit card fraud which is available in Kaggle. There is no need to do feature engineering as the data had been preprocessed using PCA"
   ]
  },
  {
   "cell_type": "code",
   "execution_count": 165,
   "id": "6b6c36a1",
   "metadata": {},
   "outputs": [],
   "source": [
    "import pandas as pd\n",
    "\n",
    "df=pd.read_csv('creditcard.csv')"
   ]
  },
  {
   "cell_type": "markdown",
   "id": "e34144d8",
   "metadata": {},
   "source": [
    "We will visualize the number of fraudulent and non-fraudulent cases in a bar graph "
   ]
  },
  {
   "cell_type": "code",
   "execution_count": 166,
   "id": "dc0a4477",
   "metadata": {},
   "outputs": [
    {
     "data": {
      "image/png": "[encoded data removed]",
      "text/plain": [
       "<Figure size 600x400 with 1 Axes>"
      ]
     },
     "metadata": {},
     "output_type": "display_data"
    },
    {
     "name": "stdout",
     "output_type": "stream",
     "text": [
      "Degree of imbalance is 0.00173\n"
     ]
    }
   ],
   "source": [
    "import matplotlib.pyplot as plt\n",
    "\n",
    "counts = df[\"Class\"].value_counts()\n",
    "total = counts.sum()\n",
    "\n",
    "plt.figure(figsize=(6,4))\n",
    "plt.bar(counts.index.astype(str), counts.values, \n",
    "        color=[\"salmon\", \"skyblue\"], edgecolor=\"black\")\n",
    "\n",
    "# Titles and axis labels\n",
    "plt.title(\"Class Distribution (Binary Column)\")\n",
    "plt.xlabel(\"Class\")\n",
    "plt.ylabel(\"Count (log scale)\")\n",
    "\n",
    "# Set y-axis to log scale\n",
    "plt.yscale(\"log\")\n",
    "\n",
    "# Replace x-ticks with class labels\n",
    "plt.xticks([0, 1], [\"Fraudulent\", \"Non-Fraudulent\"])\n",
    "\n",
    "# Annotate bars with counts and percentages\n",
    "for i, val in enumerate(counts.values):\n",
    "    percent = (val / total) * 100\n",
    "    plt.text(i, val + 11.3, f\"{val} ({percent:.1f}%)\", \n",
    "             ha='center', fontsize=10)\n",
    "\n",
    "plt.show()\n",
    "\n",
    "deg_imbalance=min(counts)/max(counts)\n",
    "print(f'Degree of imbalance is {round(deg_imbalance,6)}')\n"
   ]
  },
  {
   "cell_type": "markdown",
   "id": "451643de",
   "metadata": {},
   "source": [
    "The degree of imablance of the dataset is **0.00173**"
   ]
  },
  {
   "cell_type": "markdown",
   "id": "5f9f2af3",
   "metadata": {},
   "source": [
    "Now we will apply standardization because feature like amount and time has not been standardized."
   ]
  },
  {
   "cell_type": "code",
   "execution_count": 167,
   "id": "c78731d3",
   "metadata": {},
   "outputs": [],
   "source": [
    "from sklearn.preprocessing import StandardScaler\n",
    "X = df.drop(\"Class\", axis=1)\n",
    "y = df[\"Class\"]\n",
    "scaler = StandardScaler()\n",
    "X[['Amount']] = scaler.fit_transform(X[['Amount']] )\n",
    "X[['Time']] = scaler.fit_transform(X[['Time']] )\n"
   ]
  },
  {
   "cell_type": "markdown",
   "id": "ab8656ad",
   "metadata": {},
   "source": [
    "We will now split the original dataset into training and testing sets while ensuring the test set retains its original imbalance."
   ]
  },
  {
   "cell_type": "code",
   "execution_count": 168,
   "id": "bd72325f",
   "metadata": {},
   "outputs": [
    {
     "name": "stdout",
     "output_type": "stream",
     "text": [
      "Train set distribution:\n",
      " Class\n",
      "0    0.998271\n",
      "1    0.001729\n",
      "Name: proportion, dtype: float64\n",
      "Test set distribution:\n",
      " Class\n",
      "0    0.99828\n",
      "1    0.00172\n",
      "Name: proportion, dtype: float64\n"
     ]
    }
   ],
   "source": [
    "from sklearn.model_selection import train_test_split\n",
    "\n",
    "# Split into train and test while keeping imbalance ratio\n",
    "X_train, X_test, y_train, y_test = train_test_split(\n",
    "    X, y,\n",
    "    test_size=0.2,         # 20% for testing\n",
    "    random_state=42,       \n",
    "    stratify=y             # preserves class imbalance\n",
    ")\n",
    "\n",
    "print(\"Train set distribution:\\n\", y_train.value_counts(normalize=True))\n",
    "print(\"Test set distribution:\\n\", y_test.value_counts(normalize=True))"
   ]
  },
  {
   "cell_type": "markdown",
   "id": "411be950",
   "metadata": {},
   "source": [
    "Now we train a logistic regression classifier to evaluate the model's performance on the test set. We take note of metrics like precision, F1 score and accuracy of the minority class."
   ]
  },
  {
   "cell_type": "code",
   "execution_count": 169,
   "id": "0e6abc69",
   "metadata": {},
   "outputs": [
    {
     "name": "stdout",
     "output_type": "stream",
     "text": [
      "Accuracy of the model:\n",
      "  accuracy   : 0.99916\n",
      "\n",
      "Performance metrics for the minority class:\n",
      "  precision  : 0.82895\n",
      "  recall     : 0.64286\n",
      "  f1         : 0.72414\n"
     ]
    }
   ],
   "source": [
    "from sklearn.linear_model import LogisticRegression\n",
    "from sklearn.metrics import classification_report\n",
    "model = LogisticRegression()\n",
    "model.fit(X_train, y_train)\n",
    "yhat = model.predict(X_test)\n",
    "report_dict=classification_report(y_test, yhat,output_dict=True)\n",
    "precision_min_baseline = report_dict['1']['precision']\n",
    "recall_min_baseline    = report_dict['1']['recall']\n",
    "f1_min_baseline        = report_dict['1']['f1-score']\n",
    "accuracy_baseline = report_dict['accuracy']\n",
    "print('Accuracy of the model:')\n",
    "print(f'  accuracy   : {round(accuracy_baseline,5)}\\n')\n",
    "print('Performance metrics for the minority class:')\n",
    "print(f'  precision  : {round(precision_min_baseline,5)}')\n",
    "print(f'  recall     : {round(recall_min_baseline,5)}')\n",
    "print(f'  f1         : {round(f1_min_baseline,5)}')"
   ]
  },
  {
   "cell_type": "markdown",
   "id": "a0aa2cbd",
   "metadata": {},
   "source": [
    "Accuarcy is misleading in this highly imbalanced dataset. Most of the data is for the non-fraudulent class which account for about 99.8% data, so even if it predicts all the outcome as non-fradulent the overall accuracy will be 99.8% even though it got all the fradulent cases wrong."
   ]
  },
  {
   "cell_type": "markdown",
   "id": "8b8b6f23",
   "metadata": {},
   "source": [
    "## Part B: Gaussian Mixture Model (GMM) for Synthetic Sampling"
   ]
  },
  {
   "cell_type": "markdown",
   "id": "26d0ea54",
   "metadata": {},
   "source": [
    "### Theory"
   ]
  },
  {
   "cell_type": "markdown",
   "id": "f914cbf7",
   "metadata": {},
   "source": [
    "**SMOTE (Synthetic Minority Oversampling Technique):**\n",
    "\n",
    " - It generates synthetic samples by interpolating between existing minority data points and their nearest neighbors.\n",
    " - It does not explicitly model the true data distribution, which can lead to noisy or unrealistic samples.\n",
    " - It is problematic in sparse or overlapping regions, where interpolation may create misleading synthetic points.\n",
    "\n",
    "**GMM-based Synthetic Sampling:**\n",
    "\n",
    " - Represents the underlying probability distribution as a weighted combination of multiple Gaussian clusters. \n",
    " - It generates new synthetic samples by sampling from these Gaussian components.\n",
    " - GMM preserves the natural variability and multiple modes of the data distribution unlike SMOTE."
   ]
  },
  {
   "cell_type": "markdown",
   "id": "de9a871b",
   "metadata": {},
   "source": [
    "**Why GMM does better?**\n",
    "\n",
    " - GMM explicitly models the probability distribution of the minority class as a mixture of Gaussian components. \n",
    " - Each Gaussian captures a sub-group of the data, and new points are sampled from these distributions. \n",
    " - This allows GMM to preserve diversity and generate samples that reflect complex shapes or multiple clusters in the feature space."
   ]
  },
  {
   "cell_type": "markdown",
   "id": "1047d154",
   "metadata": {},
   "source": [
    "### GMM Implementation"
   ]
  },
  {
   "cell_type": "markdown",
   "id": "ad8b215a",
   "metadata": {},
   "source": [
    "We will isolate the minority class from the training dataset"
   ]
  },
  {
   "cell_type": "code",
   "execution_count": 170,
   "id": "b9283c40",
   "metadata": {},
   "outputs": [],
   "source": [
    "from sklearn.mixture import GaussianMixture\n",
    "\n",
    "# Extract minority class only\n",
    "X_minority = X_train[y_train == 1]\n",
    "X_majority = X_train[y_train == 0]"
   ]
  },
  {
   "cell_type": "markdown",
   "id": "cdff309f",
   "metadata": {},
   "source": [
    "We will use Bayesian Information Criterion (BIC) to determined the optimal number of components (k) for the GMM."
   ]
  },
  {
   "cell_type": "code",
   "execution_count": 181,
   "id": "564c1da4",
   "metadata": {},
   "outputs": [
    {
     "data": {
      "image/png": "[encoded data removed]",
      "text/plain": [
       "<Figure size 640x480 with 1 Axes>"
      ]
     },
     "metadata": {},
     "output_type": "display_data"
    }
   ],
   "source": [
    "import matplotlib.pyplot as plt\n",
    "import numpy as np\n",
    "from sklearn.mixture import GaussianMixture\n",
    "\n",
    "bic_scores = []\n",
    "ks = range(1, 25)\n",
    "\n",
    "for k in ks:\n",
    "    gmm = GaussianMixture(n_components=k, covariance_type='full', random_state=42)\n",
    "    gmm.fit(X_minority)\n",
    "    bic_scores.append(gmm.bic(X_minority))\n",
    "\n",
    "plt.plot(ks, bic_scores, label='BIC', marker='o')\n",
    "plt.xlabel('Number of Components (k)')\n",
    "plt.ylabel('Score')\n",
    "plt.legend()\n",
    "\n",
    "# Add vertical line at k=3\n",
    "plt.axvline(x=3, color='red', linestyle='--', label='k=3')\n",
    "plt.text(3.6, min(bic_scores), 'k=3', color='red', fontsize=10, va='bottom')\n",
    "plt.title(\"BIC vs. Number of Components (GMM)\")\n",
    "plt.show()\n"
   ]
  },
  {
   "cell_type": "markdown",
   "id": "3977fe9d",
   "metadata": {},
   "source": [
    "The minimum score is when **k=3**, so we will fit the GMM with **3 components**"
   ]
  },
  {
   "cell_type": "code",
   "execution_count": 172,
   "id": "6b0e1ab4",
   "metadata": {},
   "outputs": [],
   "source": [
    "# Fit GMM with k=3 components\n",
    "k = 3   \n",
    "gmm = GaussianMixture(n_components=k, covariance_type='full', random_state=42)\n",
    "gmm.fit(X_minority)\n",
    "None "
   ]
  },
  {
   "cell_type": "markdown",
   "id": "c902bb5e",
   "metadata": {},
   "source": [
    "We will generate synthetic data for the minority class so that the number of data points matches with the majority class and then add the synthetic data to the original dataset."
   ]
  },
  {
   "cell_type": "code",
   "execution_count": 173,
   "id": "66b8eade",
   "metadata": {},
   "outputs": [],
   "source": [
    "# Generate synthetic minority samples\n",
    "X_synthetic, _ = gmm.sample(n_samples=len(X_majority)-len(X_minority)) \n",
    "# Combine synthetic samples with original minority data\n",
    "X_minority_balanced = np.vstack([X_minority, X_synthetic])\n",
    "y_minority_balanced = np.ones(X_minority_balanced.shape[0])\n",
    "\n",
    "# Keep majority class unchanged\n",
    "X_majority = X_train[y_train == 0]\n",
    "y_majority = np.zeros(X_majority.shape[0])\n",
    "\n",
    "# Final balanced training set\n",
    "X_train_gmm = np.vstack([X_majority, X_minority_balanced])\n",
    "y_train_gmm = np.hstack([y_majority, y_minority_balanced])\n"
   ]
  },
  {
   "cell_type": "markdown",
   "id": "51eb938e",
   "metadata": {},
   "source": [
    "### CBU+GMM Implementation"
   ]
  },
  {
   "cell_type": "markdown",
   "id": "5d24bdf5",
   "metadata": {},
   "source": [
    "We will first use elbow method to identify the number of clusters we have to divide the majority class into."
   ]
  },
  {
   "cell_type": "code",
   "execution_count": 174,
   "id": "292ce2e5",
   "metadata": {},
   "outputs": [
    {
     "data": {
      "image/png": "[encoded data removed]",
      "text/plain": [
       "<Figure size 600x400 with 1 Axes>"
      ]
     },
     "metadata": {},
     "output_type": "display_data"
    },
    {
     "name": "stdout",
     "output_type": "stream",
     "text": [
      "Optimal Number Of Clusters of Majority Group: 8\n"
     ]
    }
   ],
   "source": [
    "from kneed import KneeLocator\n",
    "majority_samples = X_train[y_train == 0]\n",
    "\n",
    "inertia = []\n",
    "K_range = range(1, 20)  \n",
    "\n",
    "for k in K_range:\n",
    "    kmeans = KMeans(n_clusters=k, random_state=42)\n",
    "    kmeans.fit(majority_samples)\n",
    "    inertia.append(kmeans.inertia_)\n",
    "\n",
    "# KneeLocator for Optimal Number of Clusters\n",
    "knee_locator = KneeLocator(K_range, inertia, curve='convex', direction='decreasing')\n",
    "optimal_k = knee_locator.knee\n",
    "\n",
    "\n",
    "# plot elbow curve\n",
    "plt.figure(figsize=(6,4))\n",
    "plt.plot(K_range, inertia, 'bx-')\n",
    "plt.xlabel('Number of clusters')\n",
    "plt.ylabel('k-Means Inertia')\n",
    "plt.title('Elbow Method')\n",
    "plt.show()\n",
    "\n",
    "print(f\"Optimal Number Of Clusters of Majority Group: {optimal_k}\")"
   ]
  },
  {
   "cell_type": "markdown",
   "id": "3a7aeaf2",
   "metadata": {},
   "source": [
    "We now use K-Means to split the majority class into **11 clusters**. From each of the cluster we select few of the samples depending on its size. We ensure that the samples are selected bade on the proportion of that cluster. We will undersample points so that the total number of points is twice of the minoroty class."
   ]
  },
  {
   "cell_type": "code",
   "execution_count": 175,
   "id": "f44c50eb",
   "metadata": {},
   "outputs": [],
   "source": [
    "from sklearn.cluster import KMeans\n",
    "import pandas as pd\n",
    "\n",
    "# Separate majority and minority\n",
    "X_majority = X_train[y_train == 0]\n",
    "X_minority = X_train[y_train == 1]\n",
    "\n",
    "# Choose k clusters for majority class\n",
    "k = 11  # from elbow method\n",
    "kmeans = KMeans(n_clusters=k, random_state=42)\n",
    "majority_clusters = kmeans.fit_predict(X_majority)\n",
    "\n",
    "# Add cluster labels\n",
    "majority_df = pd.DataFrame(X_majority.copy())\n",
    "majority_df[\"Cluster\"] = majority_clusters\n",
    "\n",
    "# Desired majority size \n",
    "target_majority_size = 2 * len(X_minority)  \n",
    "\n",
    "# Compute proportional quota per cluster\n",
    "cluster_counts = majority_df[\"Cluster\"].value_counts()\n",
    "cluster_quota = (cluster_counts / cluster_counts.sum() * target_majority_size).astype(int)+1\n",
    "\n",
    "# Sample from each cluster proportionally\n",
    "majority_selected = []\n",
    "for cid, quota in cluster_quota.items():\n",
    "    cluster_points = majority_df[majority_df[\"Cluster\"] == cid].drop(\"Cluster\", axis=1)\n",
    "    sampled = cluster_points.sample(n=min(quota, len(cluster_points)), random_state=42)\n",
    "    majority_selected.append(sampled)\n",
    "\n",
    "X_majority_cbu = pd.concat(majority_selected, axis=0).values\n",
    "y_majority_cbu = np.zeros(X_majority_cbu.shape[0])\n"
   ]
  },
  {
   "cell_type": "markdown",
   "id": "b987bf88",
   "metadata": {},
   "source": [
    "We will now use GMM-based synthetic sampling on the minority dataset to match the majority population to create a balanced dataset."
   ]
  },
  {
   "cell_type": "code",
   "execution_count": 176,
   "id": "27663a47",
   "metadata": {},
   "outputs": [],
   "source": [
    "from sklearn.mixture import GaussianMixture\n",
    "\n",
    "k_gmm = 3 \n",
    "gmm = GaussianMixture(n_components=k_gmm, covariance_type='full', random_state=42)\n",
    "gmm.fit(X_minority)\n",
    "\n",
    "# Number of synthetic samples needed\n",
    "N_synthetic = len(X_majority_cbu) - len(X_minority)\n",
    "\n",
    "# Generate synthetic samples\n",
    "X_minority_synth, _ = gmm.sample(n_samples=N_synthetic)\n",
    "\n",
    "# Combine with original minority\n",
    "X_minority_balanced = np.vstack([X_minority, X_minority_synth])\n",
    "y_minority_balanced = np.ones(X_minority_balanced.shape[0])\n",
    "# Final balanced training set\n",
    "X_train_gmmcbu = np.vstack([X_majority_cbu, X_minority_balanced])\n",
    "y_train_gmmcbu = np.hstack([y_majority_cbu, y_minority_balanced])\n",
    "\n",
    "\n"
   ]
  },
  {
   "cell_type": "markdown",
   "id": "8e86de5b",
   "metadata": {},
   "source": [
    "## Part C: Performance Evaluation and Conclusion"
   ]
  },
  {
   "cell_type": "markdown",
   "id": "af8686cc",
   "metadata": {},
   "source": [
    "### Train and Evaluate Models:"
   ]
  },
  {
   "cell_type": "markdown",
   "id": "1a179adf",
   "metadata": {},
   "source": [
    "We will now train and evaluate the three models"
   ]
  },
  {
   "cell_type": "markdown",
   "id": "96d3492f",
   "metadata": {},
   "source": [
    "**Baseline Model**"
   ]
  },
  {
   "cell_type": "code",
   "execution_count": 177,
   "id": "dcfa82d7",
   "metadata": {},
   "outputs": [
    {
     "name": "stdout",
     "output_type": "stream",
     "text": [
      "Performance metrics for the minority class for baseline model:\n",
      "  precision  : 0.82895\n",
      "  recall     : 0.64286\n",
      "  f1         : 0.72414\n"
     ]
    }
   ],
   "source": [
    "from sklearn.linear_model import LogisticRegression\n",
    "from sklearn.metrics import classification_report\n",
    "\n",
    "# Logistic Regression on GMM-balanced training set\n",
    "model_baseline = LogisticRegression(max_iter=1000, random_state=42)\n",
    "model_baseline.fit(X_train, y_train)\n",
    "\n",
    "yhat_baseline = model_baseline.predict(X_test)\n",
    "\n",
    "report_dict=classification_report(y_test, yhat_baseline,output_dict=True)\n",
    "precision_baseline = report_dict['1']['precision']\n",
    "recall_baseline    = report_dict['1']['recall']\n",
    "f1_baseline       = report_dict['1']['f1-score']\n",
    "\n",
    "print('Performance metrics for the minority class for baseline model:')\n",
    "print(f'  precision  : {round(precision_baseline,5)}')\n",
    "print(f'  recall     : {round(recall_baseline,5)}')\n",
    "print(f'  f1         : {round(f1_baseline,5)}')"
   ]
  },
  {
   "cell_type": "markdown",
   "id": "f22dd5c1",
   "metadata": {},
   "source": [
    "**GMM Model**"
   ]
  },
  {
   "cell_type": "code",
   "execution_count": 178,
   "id": "9e7dc43f",
   "metadata": {},
   "outputs": [
    {
     "name": "stdout",
     "output_type": "stream",
     "text": [
      "Performance metrics for the minority class for CBU model:\n",
      "  precision  : 0.08295\n",
      "  recall     : 0.90816\n",
      "  f1         : 0.15201\n"
     ]
    }
   ],
   "source": [
    "from sklearn.linear_model import LogisticRegression\n",
    "from sklearn.metrics import classification_report\n",
    "\n",
    "# Logistic Regression on GMM-balanced training set\n",
    "model_gmm = LogisticRegression(max_iter=1000, random_state=42)\n",
    "model_gmm.fit(X_train_gmm, y_train_gmm)\n",
    "\n",
    "yhat_gmm = model_gmm.predict(X_test.values)\n",
    "\n",
    "report_dict=classification_report(y_test, yhat_gmm,output_dict=True)\n",
    "precision_gmm = report_dict['1']['precision']\n",
    "recall_gmm    = report_dict['1']['recall']\n",
    "f1_gmm       = report_dict['1']['f1-score']\n",
    "\n",
    "print('Performance metrics for the minority class for CBU model:')\n",
    "print(f'  precision  : {round(precision_gmm,5)}')\n",
    "print(f'  recall     : {round(recall_gmm,5)}')\n",
    "print(f'  f1         : {round(f1_gmm,5)}')"
   ]
  },
  {
   "cell_type": "markdown",
   "id": "584f9d6e",
   "metadata": {},
   "source": [
    "**CBU + GMM Model**"
   ]
  },
  {
   "cell_type": "code",
   "execution_count": 179,
   "id": "2d002265",
   "metadata": {},
   "outputs": [
    {
     "name": "stdout",
     "output_type": "stream",
     "text": [
      "Performance metrics for the minority class for CBU + GMM model:\n",
      "  precision  : 0.06368\n",
      "  recall     : 0.89796\n",
      "  f1         : 0.11892\n"
     ]
    }
   ],
   "source": [
    "from sklearn.linear_model import LogisticRegression\n",
    "from sklearn.metrics import classification_report\n",
    "\n",
    "# Logistic Regression on GMM-balanced training set\n",
    "model_gmm = LogisticRegression(max_iter=1000, random_state=42)\n",
    "model_gmm.fit(X_train_gmmcbu, y_train_gmmcbu)\n",
    "\n",
    "yhat_gmmcbu = model_gmm.predict(X_test.values)\n",
    "\n",
    "# Classification report\n",
    "report_dict=classification_report(y_test, yhat_gmmcbu,output_dict=True)\n",
    "precision_gmmcbu = report_dict['1']['precision']\n",
    "recall_gmmcbu    = report_dict['1']['recall']\n",
    "f1_gmmcbu       = report_dict['1']['f1-score']\n",
    "\n",
    "print('Performance metrics for the minority class for CBU + GMM model:')\n",
    "print(f'  precision  : {round(precision_gmmcbu,5)}')\n",
    "print(f'  recall     : {round(recall_gmmcbu,5)}')\n",
    "print(f'  f1         : {round(f1_gmmcbu,5)}')\n"
   ]
  },
  {
   "cell_type": "code",
   "execution_count": 180,
   "id": "bfe58f17",
   "metadata": {},
   "outputs": [
    {
     "data": {
      "image/png": "[encoded data removed]",
      "text/plain": [
       "<Figure size 800x500 with 1 Axes>"
      ]
     },
     "metadata": {},
     "output_type": "display_data"
    }
   ],
   "source": [
    "import numpy as np\n",
    "import matplotlib.pyplot as plt\n",
    "\n",
    "# Data\n",
    "precision_scores = [precision_baseline, precision_gmm, precision_gmmcbu]\n",
    "recall_scores    = [recall_baseline, recall_gmm, recall_gmmcbu]\n",
    "f1_scores        = [f1_baseline, f1_gmm, f1_gmmcbu]\n",
    "\n",
    "# Labels\n",
    "models = ['Baseline', 'GMM', 'GMM+CBU']\n",
    "metrics = ['Precision', 'Recall', 'F1-score']\n",
    "\n",
    "scores = np.array([precision_scores, recall_scores, f1_scores])  \n",
    "\n",
    "x = np.arange(len(metrics))  \n",
    "width = 0.2                  \n",
    "\n",
    "fig, ax = plt.subplots(figsize=(8, 5))\n",
    "\n",
    "# Plot each model’s scores grouped by metric\n",
    "for i, model in enumerate(models):\n",
    "    ax.bar(x + i*width - (1.5*width), scores[:, i], width, label=model)\n",
    "\n",
    "# Formatting\n",
    "ax.set_xlabel('Metrics')\n",
    "ax.set_ylabel('Score')\n",
    "ax.set_title('Comparison of Models for Each Performance Metric')\n",
    "ax.set_xticks(x)\n",
    "ax.set_xticklabels(metrics)\n",
    "ax.legend(title=\"Models\")\n",
    "\n",
    "plt.tight_layout()\n",
    "plt.show()"
   ]
  },
  {
   "cell_type": "markdown",
   "id": "d633da68",
   "metadata": {},
   "source": [
    "### Conclusion and Recommendations:"
   ]
  },
  {
   "cell_type": "markdown",
   "id": "31574afd",
   "metadata": {},
   "source": [
    "#### Comparison of the models"
   ]
  },
  {
   "cell_type": "markdown",
   "id": "c6ee2880",
   "metadata": {},
   "source": [
    "**Baseline Model**\n",
    " - The baseline model gives high precision, so whenever it detects a fraudulent transaction it is likely to be true.\n",
    " - However the recall is less compared to other models, so it is missing a lot of fradulent cases.\n",
    "\n",
    "**GMM Model**\n",
    " - There is a significant improvement of recall when compared with the base model, that means a lot more fraudulent cases are detected.\n",
    " - However the precision reduced drastically, meaning it marks alot more non-fradulent cases as frauds.\n",
    "\n",
    "**CBU+GMM Model**\n",
    " - Recall is around the same as that of the GMM model and better than the baseline model.\n",
    " - But the precision is sligh;lty less hwen compared to the GMM MOdel."
   ]
  },
  {
   "cell_type": "markdown",
   "id": "99b5fe88",
   "metadata": {},
   "source": [
    "#### **Recommendation**"
   ]
  },
  {
   "cell_type": "markdown",
   "id": "e69fcc48",
   "metadata": {},
   "source": [
    " - Recall should be the top priority as a company cannot afford to miss a fradulent cases. We can see that GMM and CBU+GMM have similar recall while baseline model has a significantly lower one.\n",
    " - We then use precision/F1 has our next prioirity. We observe that GMM does better when compared with CBU+GMM.\n",
    " - **So GMM model will be the final recommendation**. Even though its precision is less than the baseline, the recall factor gives it an edge over other models."
   ]
  }
 ],
 "metadata": {
  "kernelspec": {
   "display_name": "Python 3",
   "language": "python",
   "name": "python3"
  },
  "language_info": {
   "codemirror_mode": {
    "name": "ipython",
    "version": 3
   },
   "file_extension": ".py",
   "mimetype": "text/x-python",
   "name": "python",
   "nbconvert_exporter": "python",
   "pygments_lexer": "ipython3",
   "version": "3.11.9"
  }
 },
 "nbformat": 4,
 "nbformat_minor": 5
}
